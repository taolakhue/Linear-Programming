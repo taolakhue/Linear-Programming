{
 "cells": [
  {
   "cell_type": "markdown",
   "metadata": {},
   "source": [
    "# **Linear Programming and Optimization**\n",
    "\n",
    "#### - Basics elements of mathematical programs: \n",
    "1. A function to be minimized: f($x_1,x_2,...x_n$)   [**objective function**]\n",
    "2. Constraints/ conditions: $ g _i (x_1,x_2,...,x_n) \\le b_i  $ [**constraints**]\n",
    "3. Decision variables: $x_j \\epsilon R  \\forall j = 1,...,n $ [**decision variables**]\n",
    "\n",
    "- There are m constraints and n variable\n",
    "- Decision variables are quantified variables that we want to optimize (minimize/maximize) ex: inventory level, production quantities, etc.\n",
    "- We will mostly find minimize, but if maximize is required, just negate minimized values. \n",
    "\n",
    "#### - Kind of Constraints: \n",
    "There are two kinds of constraints: \n",
    "1. Sign constrains (restricted to negative/positive only): $ x_i \\le 0 or x_i <0$\n",
    "2. Functional constraints: all others. \n",
    "\n",
    "#### - Solutions: \n",
    "A feasible solution is a solution that \"satisfies\" all constraints. \n",
    "An Infeasible solution is a solution that \"violates\" at least one constraints.\n",
    "-> The **feasible region** (contains all feasible solutions) can be empty (for ex due to some constraints may be conflicting to each other.)\n",
    "\n",
    "An optimal solution is a feasible solution that:\n",
    "- Attains the largest objective value for maximization problem.\n",
    "- Attains the smallest objective value for minimization problem.\n",
    "- NO other feasible solution is better than it. \n",
    "\n",
    "HOWEVER, \n",
    "An Optimal solution may not be unique.\n",
    "- There can be multiple optimal solutions \n",
    "- No optimal solutions.\n",
    "\n",
    "#### Linear Programs\n",
    "A mathematical program is an Linear Program if objective function (f) and constrains are all linear functions. \n",
    "\n",
    "\n",
    "\n",
    "\n",
    "\n"
   ]
  }
 ],
 "metadata": {
  "kernelspec": {
   "display_name": "Python 3",
   "language": "python",
   "name": "python3"
  },
  "language_info": {
   "codemirror_mode": {
    "name": "ipython",
    "version": 3
   },
   "file_extension": ".py",
   "mimetype": "text/x-python",
   "name": "python",
   "nbconvert_exporter": "python",
   "pygments_lexer": "ipython3",
   "version": "3.8.5"
  }
 },
 "nbformat": 4,
 "nbformat_minor": 4
}
